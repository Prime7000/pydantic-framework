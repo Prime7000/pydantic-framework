{
 "cells": [
  {
   "cell_type": "code",
   "execution_count": 4,
   "id": "e7d0da36-9e49-4ff9-a562-d2bdd4889e02",
   "metadata": {},
   "outputs": [
    {
     "name": "stdout",
     "output_type": "stream",
     "text": [
      "city='Lagos' country='Nigeria'\n"
     ]
    }
   ],
   "source": [
    "from pydantic import BaseModel\n",
    "from pydantic_ai import Agent\n",
    "from pydantic_ai.models.openai import OpenAIChatModel\n",
    "from pydantic_ai.providers.ollama import OllamaProvider\n",
    "\n",
    "class CityLocation(BaseModel):\n",
    "    city: str\n",
    "    country: str\n",
    "\n",
    "\n",
    "ollama_model = OpenAIChatModel(\n",
    "    model_name='qwen3:0.6b',\n",
    "    provider=OllamaProvider(base_url='http://localhost:11434/v1'),\n",
    ")\n",
    "\n",
    "# Create agent\n",
    "agent = Agent(ollama_model, output_type=CityLocation)\n",
    "\n",
    "# Example usage\n",
    "result =await agent.run('i live in nigeria  in lagos city?')\n",
    "print(result.output)\n"
   ]
  }
 ],
 "metadata": {
  "kernelspec": {
   "display_name": "Python 3 (ipykernel)",
   "language": "python",
   "name": "python3"
  },
  "language_info": {
   "codemirror_mode": {
    "name": "ipython",
    "version": 3
   },
   "file_extension": ".py",
   "mimetype": "text/x-python",
   "name": "python",
   "nbconvert_exporter": "python",
   "pygments_lexer": "ipython3",
   "version": "3.13.5"
  }
 },
 "nbformat": 4,
 "nbformat_minor": 5
}
